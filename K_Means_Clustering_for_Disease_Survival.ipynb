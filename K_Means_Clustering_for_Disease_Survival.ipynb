{
  "nbformat": 4,
  "nbformat_minor": 0,
  "metadata": {
    "colab": {
      "name": "K Means Clustering for Disease Survival.ipynb",
      "provenance": [],
      "collapsed_sections": []
    },
    "kernelspec": {
      "name": "python3",
      "display_name": "Python 3"
    }
  },
  "cells": [
    {
      "cell_type": "code",
      "metadata": {
        "id": "qpKAkNcssHKA"
      },
      "source": [
        "import numpy as np\r\n",
        "import pandas as pd\r\n",
        "from sklearn.preprocessing import LabelEncoder, OneHotEncoder, StandardScaler\r\n",
        "from sklearn.compose import ColumnTransformer\r\n",
        "from sklearn.cluster import KMeans"
      ],
      "execution_count": 14,
      "outputs": []
    },
    {
      "cell_type": "markdown",
      "metadata": {
        "id": "xwbyBi-wtmWo"
      },
      "source": [
        "# **Part 1 - Data Preprocessing**"
      ]
    },
    {
      "cell_type": "markdown",
      "metadata": {
        "id": "Fx_7X_KHvFe2"
      },
      "source": [
        "**Importing Data**"
      ]
    },
    {
      "cell_type": "code",
      "metadata": {
        "colab": {
          "base_uri": "https://localhost:8080/",
          "height": 437
        },
        "id": "E8AIp-nJszGL",
        "outputId": "da77af60-48a0-4e21-81fb-fb93e51fbd95"
      },
      "source": [
        "#https://www.kaggle.com/bachrr/covid-chest-xray\r\n",
        "df = pd.read_csv('/metadata.csv', index_col=0, usecols=[0,1,2,3,4,5,17,18,20])\r\n",
        "df"
      ],
      "execution_count": 2,
      "outputs": [
        {
          "output_type": "execute_result",
          "data": {
            "text/html": [
              "<div>\n",
              "<style scoped>\n",
              "    .dataframe tbody tr th:only-of-type {\n",
              "        vertical-align: middle;\n",
              "    }\n",
              "\n",
              "    .dataframe tbody tr th {\n",
              "        vertical-align: top;\n",
              "    }\n",
              "\n",
              "    .dataframe thead th {\n",
              "        text-align: right;\n",
              "    }\n",
              "</style>\n",
              "<table border=\"1\" class=\"dataframe\">\n",
              "  <thead>\n",
              "    <tr style=\"text-align: right;\">\n",
              "      <th></th>\n",
              "      <th>offset</th>\n",
              "      <th>sex</th>\n",
              "      <th>age</th>\n",
              "      <th>finding</th>\n",
              "      <th>survival</th>\n",
              "      <th>view</th>\n",
              "      <th>modality</th>\n",
              "      <th>location</th>\n",
              "    </tr>\n",
              "    <tr>\n",
              "      <th>patientid</th>\n",
              "      <th></th>\n",
              "      <th></th>\n",
              "      <th></th>\n",
              "      <th></th>\n",
              "      <th></th>\n",
              "      <th></th>\n",
              "      <th></th>\n",
              "      <th></th>\n",
              "    </tr>\n",
              "  </thead>\n",
              "  <tbody>\n",
              "    <tr>\n",
              "      <th>2</th>\n",
              "      <td>0.0</td>\n",
              "      <td>M</td>\n",
              "      <td>65.0</td>\n",
              "      <td>COVID-19</td>\n",
              "      <td>Y</td>\n",
              "      <td>PA</td>\n",
              "      <td>X-ray</td>\n",
              "      <td>Cho Ray Hospital, Ho Chi Minh City, Vietnam</td>\n",
              "    </tr>\n",
              "    <tr>\n",
              "      <th>2</th>\n",
              "      <td>3.0</td>\n",
              "      <td>M</td>\n",
              "      <td>65.0</td>\n",
              "      <td>COVID-19</td>\n",
              "      <td>Y</td>\n",
              "      <td>PA</td>\n",
              "      <td>X-ray</td>\n",
              "      <td>Cho Ray Hospital, Ho Chi Minh City, Vietnam</td>\n",
              "    </tr>\n",
              "    <tr>\n",
              "      <th>2</th>\n",
              "      <td>5.0</td>\n",
              "      <td>M</td>\n",
              "      <td>65.0</td>\n",
              "      <td>COVID-19</td>\n",
              "      <td>Y</td>\n",
              "      <td>PA</td>\n",
              "      <td>X-ray</td>\n",
              "      <td>Cho Ray Hospital, Ho Chi Minh City, Vietnam</td>\n",
              "    </tr>\n",
              "    <tr>\n",
              "      <th>2</th>\n",
              "      <td>6.0</td>\n",
              "      <td>M</td>\n",
              "      <td>65.0</td>\n",
              "      <td>COVID-19</td>\n",
              "      <td>Y</td>\n",
              "      <td>PA</td>\n",
              "      <td>X-ray</td>\n",
              "      <td>Cho Ray Hospital, Ho Chi Minh City, Vietnam</td>\n",
              "    </tr>\n",
              "    <tr>\n",
              "      <th>4</th>\n",
              "      <td>0.0</td>\n",
              "      <td>F</td>\n",
              "      <td>52.0</td>\n",
              "      <td>COVID-19</td>\n",
              "      <td>NaN</td>\n",
              "      <td>PA</td>\n",
              "      <td>X-ray</td>\n",
              "      <td>Changhua Christian Hospital, Changhua City, Ta...</td>\n",
              "    </tr>\n",
              "    <tr>\n",
              "      <th>...</th>\n",
              "      <td>...</td>\n",
              "      <td>...</td>\n",
              "      <td>...</td>\n",
              "      <td>...</td>\n",
              "      <td>...</td>\n",
              "      <td>...</td>\n",
              "      <td>...</td>\n",
              "      <td>...</td>\n",
              "    </tr>\n",
              "    <tr>\n",
              "      <th>205</th>\n",
              "      <td>11.0</td>\n",
              "      <td>M</td>\n",
              "      <td>55.0</td>\n",
              "      <td>COVID-19</td>\n",
              "      <td>Y</td>\n",
              "      <td>AP Supine</td>\n",
              "      <td>X-ray</td>\n",
              "      <td>North Derbyshire, UK</td>\n",
              "    </tr>\n",
              "    <tr>\n",
              "      <th>205</th>\n",
              "      <td>13.0</td>\n",
              "      <td>M</td>\n",
              "      <td>55.0</td>\n",
              "      <td>COVID-19</td>\n",
              "      <td>Y</td>\n",
              "      <td>AP Supine</td>\n",
              "      <td>X-ray</td>\n",
              "      <td>North Derbyshire, UK</td>\n",
              "    </tr>\n",
              "    <tr>\n",
              "      <th>205</th>\n",
              "      <td>20.0</td>\n",
              "      <td>M</td>\n",
              "      <td>55.0</td>\n",
              "      <td>COVID-19</td>\n",
              "      <td>Y</td>\n",
              "      <td>AP Supine</td>\n",
              "      <td>X-ray</td>\n",
              "      <td>North Derbyshire, UK</td>\n",
              "    </tr>\n",
              "    <tr>\n",
              "      <th>205</th>\n",
              "      <td>24.0</td>\n",
              "      <td>M</td>\n",
              "      <td>55.0</td>\n",
              "      <td>COVID-19</td>\n",
              "      <td>Y</td>\n",
              "      <td>AP Supine</td>\n",
              "      <td>X-ray</td>\n",
              "      <td>North Derbyshire, UK</td>\n",
              "    </tr>\n",
              "    <tr>\n",
              "      <th>205</th>\n",
              "      <td>28.0</td>\n",
              "      <td>M</td>\n",
              "      <td>55.0</td>\n",
              "      <td>COVID-19</td>\n",
              "      <td>Y</td>\n",
              "      <td>AP</td>\n",
              "      <td>X-ray</td>\n",
              "      <td>North Derbyshire, UK</td>\n",
              "    </tr>\n",
              "  </tbody>\n",
              "</table>\n",
              "<p>372 rows × 8 columns</p>\n",
              "</div>"
            ],
            "text/plain": [
              "           offset  ...                                           location\n",
              "patientid          ...                                                   \n",
              "2             0.0  ...        Cho Ray Hospital, Ho Chi Minh City, Vietnam\n",
              "2             3.0  ...        Cho Ray Hospital, Ho Chi Minh City, Vietnam\n",
              "2             5.0  ...        Cho Ray Hospital, Ho Chi Minh City, Vietnam\n",
              "2             6.0  ...        Cho Ray Hospital, Ho Chi Minh City, Vietnam\n",
              "4             0.0  ...  Changhua Christian Hospital, Changhua City, Ta...\n",
              "...           ...  ...                                                ...\n",
              "205          11.0  ...                               North Derbyshire, UK\n",
              "205          13.0  ...                               North Derbyshire, UK\n",
              "205          20.0  ...                               North Derbyshire, UK\n",
              "205          24.0  ...                               North Derbyshire, UK\n",
              "205          28.0  ...                               North Derbyshire, UK\n",
              "\n",
              "[372 rows x 8 columns]"
            ]
          },
          "metadata": {
            "tags": []
          },
          "execution_count": 2
        }
      ]
    },
    {
      "cell_type": "markdown",
      "metadata": {
        "id": "vQe0QOnovKKx"
      },
      "source": [
        "**Data Cleanup**"
      ]
    },
    {
      "cell_type": "code",
      "metadata": {
        "colab": {
          "base_uri": "https://localhost:8080/"
        },
        "id": "YUOSgP1LtpOO",
        "outputId": "6d131baf-20f5-4182-e2c4-1e1fb231ba6b"
      },
      "source": [
        "df.isnull().sum() #we can see majority of the survival rows (256) are null, so lets use k-means clustering to cluster survivors and non-survivors"
      ],
      "execution_count": 3,
      "outputs": [
        {
          "output_type": "execute_result",
          "data": {
            "text/plain": [
              "offset       96\n",
              "sex          43\n",
              "age          54\n",
              "finding       0\n",
              "survival    256\n",
              "view          0\n",
              "modality      0\n",
              "location    118\n",
              "dtype: int64"
            ]
          },
          "metadata": {
            "tags": []
          },
          "execution_count": 3
        }
      ]
    },
    {
      "cell_type": "code",
      "metadata": {
        "colab": {
          "base_uri": "https://localhost:8080/",
          "height": 228
        },
        "id": "LvAniHobtNe2",
        "outputId": "b35e5205-5c5e-4292-b124-bcd59323c507"
      },
      "source": [
        "#First let's remove our mostly null label column\r\n",
        "df = df.drop('survival',axis=1)\r\n",
        "df.head()"
      ],
      "execution_count": 4,
      "outputs": [
        {
          "output_type": "execute_result",
          "data": {
            "text/html": [
              "<div>\n",
              "<style scoped>\n",
              "    .dataframe tbody tr th:only-of-type {\n",
              "        vertical-align: middle;\n",
              "    }\n",
              "\n",
              "    .dataframe tbody tr th {\n",
              "        vertical-align: top;\n",
              "    }\n",
              "\n",
              "    .dataframe thead th {\n",
              "        text-align: right;\n",
              "    }\n",
              "</style>\n",
              "<table border=\"1\" class=\"dataframe\">\n",
              "  <thead>\n",
              "    <tr style=\"text-align: right;\">\n",
              "      <th></th>\n",
              "      <th>offset</th>\n",
              "      <th>sex</th>\n",
              "      <th>age</th>\n",
              "      <th>finding</th>\n",
              "      <th>view</th>\n",
              "      <th>modality</th>\n",
              "      <th>location</th>\n",
              "    </tr>\n",
              "    <tr>\n",
              "      <th>patientid</th>\n",
              "      <th></th>\n",
              "      <th></th>\n",
              "      <th></th>\n",
              "      <th></th>\n",
              "      <th></th>\n",
              "      <th></th>\n",
              "      <th></th>\n",
              "    </tr>\n",
              "  </thead>\n",
              "  <tbody>\n",
              "    <tr>\n",
              "      <th>2</th>\n",
              "      <td>0.0</td>\n",
              "      <td>M</td>\n",
              "      <td>65.0</td>\n",
              "      <td>COVID-19</td>\n",
              "      <td>PA</td>\n",
              "      <td>X-ray</td>\n",
              "      <td>Cho Ray Hospital, Ho Chi Minh City, Vietnam</td>\n",
              "    </tr>\n",
              "    <tr>\n",
              "      <th>2</th>\n",
              "      <td>3.0</td>\n",
              "      <td>M</td>\n",
              "      <td>65.0</td>\n",
              "      <td>COVID-19</td>\n",
              "      <td>PA</td>\n",
              "      <td>X-ray</td>\n",
              "      <td>Cho Ray Hospital, Ho Chi Minh City, Vietnam</td>\n",
              "    </tr>\n",
              "    <tr>\n",
              "      <th>2</th>\n",
              "      <td>5.0</td>\n",
              "      <td>M</td>\n",
              "      <td>65.0</td>\n",
              "      <td>COVID-19</td>\n",
              "      <td>PA</td>\n",
              "      <td>X-ray</td>\n",
              "      <td>Cho Ray Hospital, Ho Chi Minh City, Vietnam</td>\n",
              "    </tr>\n",
              "    <tr>\n",
              "      <th>2</th>\n",
              "      <td>6.0</td>\n",
              "      <td>M</td>\n",
              "      <td>65.0</td>\n",
              "      <td>COVID-19</td>\n",
              "      <td>PA</td>\n",
              "      <td>X-ray</td>\n",
              "      <td>Cho Ray Hospital, Ho Chi Minh City, Vietnam</td>\n",
              "    </tr>\n",
              "    <tr>\n",
              "      <th>4</th>\n",
              "      <td>0.0</td>\n",
              "      <td>F</td>\n",
              "      <td>52.0</td>\n",
              "      <td>COVID-19</td>\n",
              "      <td>PA</td>\n",
              "      <td>X-ray</td>\n",
              "      <td>Changhua Christian Hospital, Changhua City, Ta...</td>\n",
              "    </tr>\n",
              "  </tbody>\n",
              "</table>\n",
              "</div>"
            ],
            "text/plain": [
              "           offset  ...                                           location\n",
              "patientid          ...                                                   \n",
              "2             0.0  ...        Cho Ray Hospital, Ho Chi Minh City, Vietnam\n",
              "2             3.0  ...        Cho Ray Hospital, Ho Chi Minh City, Vietnam\n",
              "2             5.0  ...        Cho Ray Hospital, Ho Chi Minh City, Vietnam\n",
              "2             6.0  ...        Cho Ray Hospital, Ho Chi Minh City, Vietnam\n",
              "4             0.0  ...  Changhua Christian Hospital, Changhua City, Ta...\n",
              "\n",
              "[5 rows x 7 columns]"
            ]
          },
          "metadata": {
            "tags": []
          },
          "execution_count": 4
        }
      ]
    },
    {
      "cell_type": "code",
      "metadata": {
        "colab": {
          "base_uri": "https://localhost:8080/"
        },
        "id": "gYzgirwWuL9y",
        "outputId": "170bfefc-0080-4f80-8732-e4062d24535c"
      },
      "source": [
        "#Now let's remove the null rows for the remaining columns\r\n",
        "df = df.dropna() \r\n",
        "df.count() #got 185 rows left to cluster"
      ],
      "execution_count": 5,
      "outputs": [
        {
          "output_type": "execute_result",
          "data": {
            "text/plain": [
              "offset      185\n",
              "sex         185\n",
              "age         185\n",
              "finding     185\n",
              "view        185\n",
              "modality    185\n",
              "location    185\n",
              "dtype: int64"
            ]
          },
          "metadata": {
            "tags": []
          },
          "execution_count": 5
        }
      ]
    },
    {
      "cell_type": "code",
      "metadata": {
        "colab": {
          "base_uri": "https://localhost:8080/"
        },
        "id": "s7sHVLn4zunN",
        "outputId": "e89517f4-fa5d-4509-ea24-e17a05b3c1d6"
      },
      "source": [
        "X = df.iloc[:, :].values #take all rows and columns\r\n",
        "X #into an array now"
      ],
      "execution_count": 6,
      "outputs": [
        {
          "output_type": "execute_result",
          "data": {
            "text/plain": [
              "array([[0.0, 'M', 65.0, ..., 'PA', 'X-ray',\n",
              "        'Cho Ray Hospital, Ho Chi Minh City, Vietnam'],\n",
              "       [3.0, 'M', 65.0, ..., 'PA', 'X-ray',\n",
              "        'Cho Ray Hospital, Ho Chi Minh City, Vietnam'],\n",
              "       [5.0, 'M', 65.0, ..., 'PA', 'X-ray',\n",
              "        'Cho Ray Hospital, Ho Chi Minh City, Vietnam'],\n",
              "       ...,\n",
              "       [20.0, 'M', 55.0, ..., 'AP Supine', 'X-ray',\n",
              "        'North Derbyshire, UK'],\n",
              "       [24.0, 'M', 55.0, ..., 'AP Supine', 'X-ray',\n",
              "        'North Derbyshire, UK'],\n",
              "       [28.0, 'M', 55.0, ..., 'AP', 'X-ray', 'North Derbyshire, UK']],\n",
              "      dtype=object)"
            ]
          },
          "metadata": {
            "tags": []
          },
          "execution_count": 6
        }
      ]
    },
    {
      "cell_type": "markdown",
      "metadata": {
        "id": "SkZ7qtcdvPxm"
      },
      "source": [
        "**Encoding Categorical Data**"
      ]
    },
    {
      "cell_type": "markdown",
      "metadata": {
        "id": "m1cujFTu16C9"
      },
      "source": [
        "Gender"
      ]
    },
    {
      "cell_type": "code",
      "metadata": {
        "colab": {
          "base_uri": "https://localhost:8080/"
        },
        "id": "xJh8Y0JXzFP3",
        "outputId": "be70334a-6999-40cc-f34e-525484075bec"
      },
      "source": [
        "#Encoding the Gender\r\n",
        "le = LabelEncoder() #creating an instance of the label encoder imported above\r\n",
        "X[:, 1] = le.fit_transform(X[:, 1]) #we are encoding column index 1 from array X, which is the gender. \r\n",
        "\r\n",
        "print(X[0:3,:]) #0 is female, 1 is male"
      ],
      "execution_count": 7,
      "outputs": [
        {
          "output_type": "stream",
          "text": [
            "[[0.0 1 65.0 'COVID-19' 'PA' 'X-ray'\n",
            "  'Cho Ray Hospital, Ho Chi Minh City, Vietnam']\n",
            " [3.0 1 65.0 'COVID-19' 'PA' 'X-ray'\n",
            "  'Cho Ray Hospital, Ho Chi Minh City, Vietnam']\n",
            " [5.0 1 65.0 'COVID-19' 'PA' 'X-ray'\n",
            "  'Cho Ray Hospital, Ho Chi Minh City, Vietnam']]\n"
          ],
          "name": "stdout"
        }
      ]
    },
    {
      "cell_type": "code",
      "metadata": {
        "colab": {
          "base_uri": "https://localhost:8080/"
        },
        "id": "Fc3eKUmjut2E",
        "outputId": "f543de0f-4622-4953-f0a3-104d7d2432a5"
      },
      "source": [
        "print(df[\"finding\"].value_counts(), '\\n') #so we have 6 different categories for finding\r\n",
        "print(df[\"view\"].value_counts(), '\\n') #so we have 6 different categories for view\r\n",
        "print(df[\"modality\"].value_counts(), '\\n') #so we have 6 different categories for finding\r\n",
        "#need to encode 14 different datatypes"
      ],
      "execution_count": 8,
      "outputs": [
        {
          "output_type": "stream",
          "text": [
            "COVID-19          155\n",
            "SARS               14\n",
            "COVID-19, ARDS      9\n",
            "Streptococcus       4\n",
            "No Finding          2\n",
            "ARDS                1\n",
            "Name: finding, dtype: int64 \n",
            "\n",
            "PA               94\n",
            "AP               32\n",
            "AP Supine        27\n",
            "Axial            16\n",
            "L                15\n",
            "AP semi erect     1\n",
            "Name: view, dtype: int64 \n",
            "\n",
            "X-ray    169\n",
            "CT        16\n",
            "Name: modality, dtype: int64 \n",
            "\n"
          ],
          "name": "stdout"
        }
      ]
    },
    {
      "cell_type": "markdown",
      "metadata": {
        "id": "7Q3bVHJS17dF"
      },
      "source": [
        "Modality, View, Finding"
      ]
    },
    {
      "cell_type": "code",
      "metadata": {
        "colab": {
          "base_uri": "https://localhost:8080/"
        },
        "id": "2Seexkznv9s3",
        "outputId": "dbde8971-a25a-4bf0-cda9-addcbf63eca6"
      },
      "source": [
        "ct = ColumnTransformer(transformers=[('encoder', OneHotEncoder(), [3,4,5])], remainder='passthrough') #creating an instance of the ColumnTransformer and One Hot Encoding \r\n",
        "#this will then split up Modality, View, and Finding into 14 columns, one for each category\r\n",
        "\r\n",
        "X = np.array(ct.fit_transform(X))\r\n",
        "\r\n",
        "print(X[0:3, :]) #encoded the modality, view, findings column into 14 different columns"
      ],
      "execution_count": 9,
      "outputs": [
        {
          "output_type": "stream",
          "text": [
            "[[0.0 1.0 0.0 0.0 0.0 0.0 0.0 0.0 0.0 0.0 0.0 1.0 0.0 1.0 0.0 1 65.0\n",
            "  'Cho Ray Hospital, Ho Chi Minh City, Vietnam']\n",
            " [0.0 1.0 0.0 0.0 0.0 0.0 0.0 0.0 0.0 0.0 0.0 1.0 0.0 1.0 3.0 1 65.0\n",
            "  'Cho Ray Hospital, Ho Chi Minh City, Vietnam']\n",
            " [0.0 1.0 0.0 0.0 0.0 0.0 0.0 0.0 0.0 0.0 0.0 1.0 0.0 1.0 5.0 1 65.0\n",
            "  'Cho Ray Hospital, Ho Chi Minh City, Vietnam']]\n"
          ],
          "name": "stdout"
        }
      ]
    },
    {
      "cell_type": "markdown",
      "metadata": {
        "id": "ZAWgh0J72Aq7"
      },
      "source": [
        "Location"
      ]
    },
    {
      "cell_type": "code",
      "metadata": {
        "colab": {
          "base_uri": "https://localhost:8080/"
        },
        "id": "z1mT4ML-2SY8",
        "outputId": "81cda00a-653d-45af-8366-0c6b37b51395"
      },
      "source": [
        "df['location'].nunique() #41 different locations to categorize"
      ],
      "execution_count": 10,
      "outputs": [
        {
          "output_type": "execute_result",
          "data": {
            "text/plain": [
              "41"
            ]
          },
          "metadata": {
            "tags": []
          },
          "execution_count": 10
        }
      ]
    },
    {
      "cell_type": "code",
      "metadata": {
        "colab": {
          "base_uri": "https://localhost:8080/"
        },
        "id": "Tj4R1QnQwIZq",
        "outputId": "f771a1d1-1de9-4c94-85a6-9308853f50a7"
      },
      "source": [
        "ct2 = ColumnTransformer(transformers=[('encoder', OneHotEncoder(), [-1])], remainder='passthrough') #creating an instance of the ColumnTransformer and One Hot Encoding\r\n",
        "#this will then split up location into 41 columns, one for each category\r\n",
        "\r\n",
        "X = np.array(ct2.fit_transform(X))\r\n",
        "\r\n",
        "print(X[0, :]) #encoded the location column into 41 different columns"
      ],
      "execution_count": 13,
      "outputs": [
        {
          "output_type": "stream",
          "text": [
            "[0.0 1.0 0.0 0.0 0.0 0.0 0.0 0.0 0.0 0.0 0.0 0.0 0.0 0.0 0.0 0.0 0.0 0.0\n",
            " 0.0 0.0 0.0 0.0 0.0 0.0 0.0 0.0 0.0 0.0 0.0 1.0 0.0 0.0 0.0 0.0 0.0 0.0\n",
            " 0.0 0.0 0.0 0.0 0.0 0.0 0.0 0.0 0.0 0.0 0.0 0.0 0.0 0.0 1.0 0.0 0.0 0.0\n",
            " 0.0 0.0 0.0 0.0 0.0 0.0 0.0 0.0 0.0 0.0 0.0 0.0 0.0 0.0 0.0 0.0 0.0 0.0\n",
            " 0.0 0.0 0.0 0.0 0.0 0.0 0.0 0.0 0.0 0.0 0.0 0.0 0.0 0.0 0.0 1.0 0.0 0.0\n",
            " 0.0 0.0 0.0 0.0 0.0 0.0 0.0 1.0 0.0 1.0 0.0]\n"
          ],
          "name": "stdout"
        }
      ]
    },
    {
      "cell_type": "markdown",
      "metadata": {
        "id": "-CLvVpT-jotv"
      },
      "source": [
        "# **Part 2 - Creating and Training the Model**"
      ]
    },
    {
      "cell_type": "code",
      "metadata": {
        "id": "_cmoS3mtxP5D"
      },
      "source": [
        "km = KMeans(n_clusters=2) #2 clusters, one for survival, other for not"
      ],
      "execution_count": 15,
      "outputs": []
    },
    {
      "cell_type": "code",
      "metadata": {
        "colab": {
          "base_uri": "https://localhost:8080/"
        },
        "id": "d05jfWyi3LTd",
        "outputId": "1b311e9d-cbb3-4eea-8df1-4c0285111439"
      },
      "source": [
        "km.fit(X)"
      ],
      "execution_count": 16,
      "outputs": [
        {
          "output_type": "execute_result",
          "data": {
            "text/plain": [
              "KMeans(algorithm='auto', copy_x=True, init='k-means++', max_iter=300,\n",
              "       n_clusters=2, n_init=10, n_jobs=None, precompute_distances='auto',\n",
              "       random_state=None, tol=0.0001, verbose=0)"
            ]
          },
          "metadata": {
            "tags": []
          },
          "execution_count": 16
        }
      ]
    },
    {
      "cell_type": "code",
      "metadata": {
        "colab": {
          "base_uri": "https://localhost:8080/"
        },
        "id": "OtQJ9xdj3b5j",
        "outputId": "8d4eb188-776e-4080-e43d-f2cea924a091"
      },
      "source": [
        "km.cluster_centers_ #so we got the two custer centroids, but there's no real way to evaluate due to the mostly unlabelled data"
      ],
      "execution_count": 18,
      "outputs": [
        {
          "output_type": "execute_result",
          "data": {
            "text/plain": [
              "array([[ 4.23312883e-01,  5.76687117e-01,  1.84049080e-02,\n",
              "         3.68098160e-02,  2.45398773e-02,  1.84049080e-02,\n",
              "         6.13496933e-03,  6.13496933e-02,  1.22699387e-02,\n",
              "         1.84049080e-02,  6.13496933e-03,  1.22699387e-02,\n",
              "         1.84049080e-02,  3.06748466e-02,  1.84049080e-02,\n",
              "         2.45398773e-02,  9.20245399e-02,  1.84049080e-02,\n",
              "         1.22699387e-02,  1.84049080e-02,  4.90797546e-02,\n",
              "         2.45398773e-02,  1.22699387e-02,  6.13496933e-03,\n",
              "         4.29447853e-02,  3.06748466e-02,  1.84049080e-02,\n",
              "         6.13496933e-03,  6.13496933e-03,  4.90797546e-02,\n",
              "         2.45398773e-02,  6.13496933e-03,  6.13496933e-03,\n",
              "         1.04294479e-01,  6.13496933e-03,  4.90797546e-02,\n",
              "         6.13496933e-03,  3.68098160e-02,  1.84049080e-02,\n",
              "         6.13496933e-03,  1.22699387e-02,  6.13496933e-03,\n",
              "         1.22699387e-02,  6.13496933e-03,  6.13496933e-03,\n",
              "         2.45398773e-02,  1.84049080e-02,  6.13496933e-03,\n",
              "         1.22699387e-02,  1.84049080e-02,  2.45398773e-02,\n",
              "         2.45398773e-02,  6.13496933e-03,  3.06748466e-02,\n",
              "         1.22699387e-02,  1.84049080e-02,  6.13496933e-03,\n",
              "         1.84049080e-02,  2.94478528e-01,  6.13496933e-03,\n",
              "         6.13496933e-03,  6.13496933e-03,  2.45398773e-02,\n",
              "         4.29447853e-02,  1.84049080e-02,  2.45398773e-02,\n",
              "         2.45398773e-02,  6.13496933e-03,  6.13496933e-03,\n",
              "         6.13496933e-03,  1.84049080e-02,  1.84049080e-02,\n",
              "         6.13496933e-03,  1.22699387e-02,  6.13496933e-03,\n",
              "         4.29447853e-02,  1.16564417e-01,  6.13496933e-03,\n",
              "         6.13496933e-03,  1.22699387e-02,  1.22699387e-02,\n",
              "         6.13496933e-03,  6.13496933e-03,  6.13496933e-03,\n",
              "         3.06748466e-02,  6.13496933e-03,  6.13496933e-03,\n",
              "         8.40490798e-01,  5.52147239e-02,  1.22699387e-02,\n",
              "         6.13496933e-02,  2.45398773e-02,  1.47239264e-01,\n",
              "         1.41104294e-01,  6.13496933e-03,  6.74846626e-02,\n",
              "         8.58895706e-02,  5.52147239e-01,  6.74846626e-02,\n",
              "         9.32515337e-01,  4.69938650e+00],\n",
              "       [ 5.45454545e-01,  4.54545455e-01,  0.00000000e+00,\n",
              "         0.00000000e+00,  0.00000000e+00,  0.00000000e+00,\n",
              "         0.00000000e+00,  6.93889390e-18,  4.54545455e-02,\n",
              "         0.00000000e+00,  0.00000000e+00,  0.00000000e+00,\n",
              "         0.00000000e+00,  3.46944695e-18,  9.09090909e-02,\n",
              "         0.00000000e+00, -4.16333634e-17,  0.00000000e+00,\n",
              "         0.00000000e+00,  9.09090909e-02,  4.09090909e-01,\n",
              "         0.00000000e+00,  0.00000000e+00,  0.00000000e+00,\n",
              "         4.54545455e-02,  3.46944695e-18,  0.00000000e+00,\n",
              "         0.00000000e+00,  0.00000000e+00,  9.09090909e-02,\n",
              "         4.54545455e-02,  0.00000000e+00,  0.00000000e+00,\n",
              "         4.16333634e-17,  0.00000000e+00,  0.00000000e+00,\n",
              "         1.36363636e-01,  0.00000000e+00,  0.00000000e+00,\n",
              "         4.54545455e-02,  0.00000000e+00,  0.00000000e+00,\n",
              "         0.00000000e+00,  0.00000000e+00,  0.00000000e+00,\n",
              "         0.00000000e+00,  0.00000000e+00,  0.00000000e+00,\n",
              "         0.00000000e+00,  0.00000000e+00,  0.00000000e+00,\n",
              "         0.00000000e+00,  0.00000000e+00,  3.46944695e-18,\n",
              "         0.00000000e+00,  9.09090909e-02,  0.00000000e+00,\n",
              "         0.00000000e+00,  1.81818182e-01,  0.00000000e+00,\n",
              "         0.00000000e+00,  0.00000000e+00,  0.00000000e+00,\n",
              "         1.81818182e-01,  9.09090909e-02,  1.36363636e-01,\n",
              "         0.00000000e+00,  0.00000000e+00,  0.00000000e+00,\n",
              "         0.00000000e+00,  0.00000000e+00,  0.00000000e+00,\n",
              "         0.00000000e+00,  0.00000000e+00,  0.00000000e+00,\n",
              "        -1.38777878e-17, -1.38777878e-17,  0.00000000e+00,\n",
              "         4.54545455e-02,  2.72727273e-01,  0.00000000e+00,\n",
              "         0.00000000e+00,  0.00000000e+00,  0.00000000e+00,\n",
              "         3.46944695e-18,  0.00000000e+00,  0.00000000e+00,\n",
              "         8.18181818e-01,  2.77555756e-17,  0.00000000e+00,\n",
              "         1.81818182e-01,  0.00000000e+00,  3.63636364e-01,\n",
              "         1.81818182e-01,  0.00000000e+00,  2.27272727e-01,\n",
              "         4.54545455e-02,  1.81818182e-01,  2.27272727e-01,\n",
              "         7.72727273e-01,  2.26818182e+01]])"
            ]
          },
          "metadata": {
            "tags": []
          },
          "execution_count": 18
        }
      ]
    }
  ]
}