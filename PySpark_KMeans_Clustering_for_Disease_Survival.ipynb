{
  "nbformat": 4,
  "nbformat_minor": 0,
  "metadata": {
    "application/vnd.databricks.v1+notebook": {
      "notebookName": "Respiratory Disease",
      "dashboards": [],
      "notebookMetadata": {
        "pythonIndentUnit": 2
      },
      "language": "python",
      "widgets": {},
      "notebookOrigID": 2654885298197842
    },
    "colab": {
      "name": "PySpark_KMeans_Clustering_for_Disease_Survival.ipynb",
      "provenance": [],
      "collapsed_sections": []
    }
  },
  "cells": [
    {
      "cell_type": "code",
      "metadata": {
        "application/vnd.databricks.v1+cell": {
          "title": "",
          "showTitle": false,
          "inputWidgets": {},
          "nuid": "b3494430-5ddd-4c35-b41b-7bf50af2d372"
        },
        "id": "IaEtlbk7ihM0",
        "outputId": "9e96badf-fc35-429b-ac70-6f11b2f4aedd"
      },
      "source": [
        "from pyspark.sql import SparkSession\n",
        "from pyspark.ml.clustering import KMeans\n",
        "from pyspark.ml.linalg import Vectors\n",
        "from pyspark.ml.feature import VectorAssembler\n",
        "from pyspark.ml.feature import StringIndexer\n",
        "from pyspark.sql.functions import isnan, when, count, col\n",
        "from pyspark.ml.evaluation import ClusteringEvaluator\n",
        "from pyspark.ml.feature import StandardScaler"
      ],
      "execution_count": null,
      "outputs": [
        {
          "output_type": "display_data",
          "data": {
            "text/html": [
              "<style scoped>\n",
              "  .ansiout {\n",
              "    display: block;\n",
              "    unicode-bidi: embed;\n",
              "    white-space: pre-wrap;\n",
              "    word-wrap: break-word;\n",
              "    word-break: break-all;\n",
              "    font-family: \"Source Code Pro\", \"Menlo\", monospace;;\n",
              "    font-size: 13px;\n",
              "    color: #555;\n",
              "    margin-left: 4px;\n",
              "    line-height: 19px;\n",
              "  }\n",
              "</style>\n",
              "<div class=\"ansiout\"></div>"
            ]
          },
          "metadata": {
            "tags": [],
            "application/vnd.databricks.v1+output": {
              "datasetInfos": [],
              "data": "<div class=\"ansiout\"></div>",
              "removedWidgets": [],
              "addedWidgets": {},
              "type": "html",
              "arguments": {}
            }
          }
        }
      ]
    },
    {
      "cell_type": "code",
      "metadata": {
        "application/vnd.databricks.v1+cell": {
          "title": "",
          "showTitle": false,
          "inputWidgets": {},
          "nuid": "e4d16578-c897-49c7-9f62-26b1abe3a771"
        },
        "id": "b8uWDHiLihM-",
        "outputId": "dae81cc9-3e7a-4532-b00e-bfec3ff6c00c"
      },
      "source": [
        "spark = SparkSession.builder.appName('RespiratoryDisease').getOrCreate()"
      ],
      "execution_count": null,
      "outputs": [
        {
          "output_type": "display_data",
          "data": {
            "text/html": [
              "<style scoped>\n",
              "  .ansiout {\n",
              "    display: block;\n",
              "    unicode-bidi: embed;\n",
              "    white-space: pre-wrap;\n",
              "    word-wrap: break-word;\n",
              "    word-break: break-all;\n",
              "    font-family: \"Source Code Pro\", \"Menlo\", monospace;;\n",
              "    font-size: 13px;\n",
              "    color: #555;\n",
              "    margin-left: 4px;\n",
              "    line-height: 19px;\n",
              "  }\n",
              "</style>\n",
              "<div class=\"ansiout\"></div>"
            ]
          },
          "metadata": {
            "tags": [],
            "application/vnd.databricks.v1+output": {
              "datasetInfos": [],
              "data": "<div class=\"ansiout\"></div>",
              "removedWidgets": [],
              "addedWidgets": {},
              "type": "html",
              "arguments": {}
            }
          }
        }
      ]
    },
    {
      "cell_type": "markdown",
      "metadata": {
        "id": "yCsifQj4ilhm"
      },
      "source": [
        "#**Part 1 - Data Preprocessing**"
      ]
    },
    {
      "cell_type": "code",
      "metadata": {
        "application/vnd.databricks.v1+cell": {
          "title": "",
          "showTitle": false,
          "inputWidgets": {},
          "nuid": "26f941f8-9aff-4588-81ae-682daccd3e53"
        },
        "id": "mkaURIi3ihM_",
        "outputId": "dfbb4e88-2cfe-4434-8144-0463f0591d1d"
      },
      "source": [
        "df = spark.read.csv('/FileStore/tables/metadata.csv',inferSchema=True,header=True)\n",
        "\n",
        "df.show(5)"
      ],
      "execution_count": null,
      "outputs": [
        {
          "output_type": "display_data",
          "data": {
            "text/html": [
              "<style scoped>\n",
              "  .ansiout {\n",
              "    display: block;\n",
              "    unicode-bidi: embed;\n",
              "    white-space: pre-wrap;\n",
              "    word-wrap: break-word;\n",
              "    word-break: break-all;\n",
              "    font-family: \"Source Code Pro\", \"Menlo\", monospace;;\n",
              "    font-size: 13px;\n",
              "    color: #555;\n",
              "    margin-left: 4px;\n",
              "    line-height: 19px;\n",
              "  }\n",
              "</style>\n",
              "<div class=\"ansiout\">+---------+------+---+---+--------+--------+----+--------+--------------------+----+\n",
              "patientid|offset|sex|age| finding|survival|view|modality|            location| _c9|\n",
              "+---------+------+---+---+--------+--------+----+--------+--------------------+----+\n",
              "        2|     0|  M| 65|COVID-19|       Y|  PA|   X-ray|Cho Ray Hospital,...|null|\n",
              "        2|     3|  M| 65|COVID-19|       Y|  PA|   X-ray|Cho Ray Hospital,...|null|\n",
              "        2|     5|  M| 65|COVID-19|       Y|  PA|   X-ray|Cho Ray Hospital,...|null|\n",
              "        2|     6|  M| 65|COVID-19|       Y|  PA|   X-ray|Cho Ray Hospital,...|null|\n",
              "        4|     0|  F| 52|COVID-19|    null|  PA|   X-ray|Changhua Christia...|null|\n",
              "+---------+------+---+---+--------+--------+----+--------+--------------------+----+\n",
              "only showing top 5 rows\n",
              "\n",
              "</div>"
            ]
          },
          "metadata": {
            "tags": [],
            "application/vnd.databricks.v1+output": {
              "datasetInfos": [],
              "data": "<div class=\"ansiout\">+---------+------+---+---+--------+--------+----+--------+--------------------+----+\n|patientid|offset|sex|age| finding|survival|view|modality|            location| _c9|\n+---------+------+---+---+--------+--------+----+--------+--------------------+----+\n|        2|     0|  M| 65|COVID-19|       Y|  PA|   X-ray|Cho Ray Hospital,...|null|\n|        2|     3|  M| 65|COVID-19|       Y|  PA|   X-ray|Cho Ray Hospital,...|null|\n|        2|     5|  M| 65|COVID-19|       Y|  PA|   X-ray|Cho Ray Hospital,...|null|\n|        2|     6|  M| 65|COVID-19|       Y|  PA|   X-ray|Cho Ray Hospital,...|null|\n|        4|     0|  F| 52|COVID-19|    null|  PA|   X-ray|Changhua Christia...|null|\n+---------+------+---+---+--------+--------+----+--------+--------------------+----+\nonly showing top 5 rows\n\n</div>",
              "removedWidgets": [],
              "addedWidgets": {},
              "type": "html",
              "arguments": {}
            }
          }
        }
      ]
    },
    {
      "cell_type": "markdown",
      "metadata": {
        "id": "vknEK0eDioo9"
      },
      "source": [
        "**1.1 Cleaning Null Values**"
      ]
    },
    {
      "cell_type": "code",
      "metadata": {
        "application/vnd.databricks.v1+cell": {
          "title": "",
          "showTitle": false,
          "inputWidgets": {},
          "nuid": "39ae647c-3f08-4e05-ae15-94e20798ef8c"
        },
        "id": "kwFcu4T1ihM_",
        "outputId": "301feb23-aacc-4760-c5ef-43001cce064a"
      },
      "source": [
        "df.select([count(when(isnan(c) | col(c).isNull(), c)).alias(c) for c in df.columns]).show() #the survival label is mostly null, so lets remove it anyway since this is unsupervised. Also remove _c9 column which is entirely null"
      ],
      "execution_count": null,
      "outputs": [
        {
          "output_type": "display_data",
          "data": {
            "text/html": [
              "<style scoped>\n",
              "  .ansiout {\n",
              "    display: block;\n",
              "    unicode-bidi: embed;\n",
              "    white-space: pre-wrap;\n",
              "    word-wrap: break-word;\n",
              "    word-break: break-all;\n",
              "    font-family: \"Source Code Pro\", \"Menlo\", monospace;;\n",
              "    font-size: 13px;\n",
              "    color: #555;\n",
              "    margin-left: 4px;\n",
              "    line-height: 19px;\n",
              "  }\n",
              "</style>\n",
              "<div class=\"ansiout\">+---------+------+---+---+-------+--------+----+--------+--------+---+\n",
              "patientid|offset|sex|age|finding|survival|view|modality|location|_c9|\n",
              "+---------+------+---+---+-------+--------+----+--------+--------+---+\n",
              "        0|    96| 43| 54|      0|     256|   0|       0|     118|368|\n",
              "+---------+------+---+---+-------+--------+----+--------+--------+---+\n",
              "\n",
              "</div>"
            ]
          },
          "metadata": {
            "tags": [],
            "application/vnd.databricks.v1+output": {
              "datasetInfos": [],
              "data": "<div class=\"ansiout\">+---------+------+---+---+-------+--------+----+--------+--------+---+\n|patientid|offset|sex|age|finding|survival|view|modality|location|_c9|\n+---------+------+---+---+-------+--------+----+--------+--------+---+\n|        0|    96| 43| 54|      0|     256|   0|       0|     118|368|\n+---------+------+---+---+-------+--------+----+--------+--------+---+\n\n</div>",
              "removedWidgets": [],
              "addedWidgets": {},
              "type": "html",
              "arguments": {}
            }
          }
        }
      ]
    },
    {
      "cell_type": "code",
      "metadata": {
        "application/vnd.databricks.v1+cell": {
          "title": "",
          "showTitle": false,
          "inputWidgets": {},
          "nuid": "27e4ca5e-77e7-4a73-a506-2773fcb10b3a"
        },
        "id": "csj9IfbuihNA",
        "outputId": "d9b212a2-a4a7-47cb-a13e-227b392acbcf"
      },
      "source": [
        "df = df.drop('survival','_c9')\n",
        "df.columns #survival and _c9 columns are now dropped"
      ],
      "execution_count": null,
      "outputs": [
        {
          "output_type": "display_data",
          "data": {
            "text/html": [
              "<style scoped>\n",
              "  .ansiout {\n",
              "    display: block;\n",
              "    unicode-bidi: embed;\n",
              "    white-space: pre-wrap;\n",
              "    word-wrap: break-word;\n",
              "    word-break: break-all;\n",
              "    font-family: \"Source Code Pro\", \"Menlo\", monospace;;\n",
              "    font-size: 13px;\n",
              "    color: #555;\n",
              "    margin-left: 4px;\n",
              "    line-height: 19px;\n",
              "  }\n",
              "</style>\n",
              "<div class=\"ansiout\">Out[6]: [&#39;patientid&#39;,\n",
              " &#39;offset&#39;,\n",
              " &#39;sex&#39;,\n",
              " &#39;age&#39;,\n",
              " &#39;finding&#39;,\n",
              " &#39;view&#39;,\n",
              " &#39;modality&#39;,\n",
              " &#39;location&#39;]</div>"
            ]
          },
          "metadata": {
            "tags": [],
            "application/vnd.databricks.v1+output": {
              "datasetInfos": [],
              "data": "<div class=\"ansiout\">Out[6]: [&#39;patientid&#39;,\n &#39;offset&#39;,\n &#39;sex&#39;,\n &#39;age&#39;,\n &#39;finding&#39;,\n &#39;view&#39;,\n &#39;modality&#39;,\n &#39;location&#39;]</div>",
              "removedWidgets": [],
              "addedWidgets": {},
              "type": "html",
              "arguments": {}
            }
          }
        }
      ]
    },
    {
      "cell_type": "code",
      "metadata": {
        "application/vnd.databricks.v1+cell": {
          "title": "",
          "showTitle": false,
          "inputWidgets": {},
          "nuid": "a393d625-c740-4854-9aa1-0cc40f704272"
        },
        "id": "ISzzXQrUihNA",
        "outputId": "de2b71f7-a7f4-43ad-bd37-330a9305d804"
      },
      "source": [
        "df = df.na.drop(how = 'any',) #so dropping rows where all the row values are null\n",
        "df.describe().show()"
      ],
      "execution_count": null,
      "outputs": [
        {
          "output_type": "display_data",
          "data": {
            "text/html": [
              "<style scoped>\n",
              "  .ansiout {\n",
              "    display: block;\n",
              "    unicode-bidi: embed;\n",
              "    white-space: pre-wrap;\n",
              "    word-wrap: break-word;\n",
              "    word-break: break-all;\n",
              "    font-family: \"Source Code Pro\", \"Menlo\", monospace;;\n",
              "    font-size: 13px;\n",
              "    color: #555;\n",
              "    margin-left: 4px;\n",
              "    line-height: 19px;\n",
              "  }\n",
              "</style>\n",
              "<div class=\"ansiout\">+-------+----------------+-----------------+----+------------------+-------------+----+--------+-------------+\n",
              "summary|       patientid|           offset| sex|               age|      finding|view|modality|     location|\n",
              "+-------+----------------+-----------------+----+------------------+-------------+----+--------+-------------+\n",
              "  count|             185|              185| 185|               185|          185| 185|     185|          185|\n",
              "   mean|            91.2|6.837837837837838|null| 55.68108108108108|         null|null|    null|         null|\n",
              " stddev|69.5304750201071|7.157822998807399|null|15.106898759482696|         null|null|    null|         null|\n",
              "    min|               2|               -5|   F|                23|         ARDS|  AP|      CT|    Australia|\n",
              "    max|             205|               35|   M|                88|Streptococcus|  PA|   X-ray|Zigong, China|\n",
              "+-------+----------------+-----------------+----+------------------+-------------+----+--------+-------------+\n",
              "\n",
              "</div>"
            ]
          },
          "metadata": {
            "tags": [],
            "application/vnd.databricks.v1+output": {
              "datasetInfos": [],
              "data": "<div class=\"ansiout\">+-------+----------------+-----------------+----+------------------+-------------+----+--------+-------------+\n|summary|       patientid|           offset| sex|               age|      finding|view|modality|     location|\n+-------+----------------+-----------------+----+------------------+-------------+----+--------+-------------+\n|  count|             185|              185| 185|               185|          185| 185|     185|          185|\n|   mean|            91.2|6.837837837837838|null| 55.68108108108108|         null|null|    null|         null|\n| stddev|69.5304750201071|7.157822998807399|null|15.106898759482696|         null|null|    null|         null|\n|    min|               2|               -5|   F|                23|         ARDS|  AP|      CT|    Australia|\n|    max|             205|               35|   M|                88|Streptococcus|  PA|   X-ray|Zigong, China|\n+-------+----------------+-----------------+----+------------------+-------------+----+--------+-------------+\n\n</div>",
              "removedWidgets": [],
              "addedWidgets": {},
              "type": "html",
              "arguments": {}
            }
          }
        }
      ]
    },
    {
      "cell_type": "markdown",
      "metadata": {
        "id": "ju4KKxhsixqs"
      },
      "source": [
        "**1.2 Encoding Categorical Data**\n"
      ]
    },
    {
      "cell_type": "code",
      "metadata": {
        "application/vnd.databricks.v1+cell": {
          "title": "",
          "showTitle": false,
          "inputWidgets": {},
          "nuid": "58d80125-ff30-4fda-9709-cc88fe2a83be"
        },
        "id": "ZKzGOp9-ihNB",
        "outputId": "b00dfb10-3938-4f8d-942f-f30d480859e0"
      },
      "source": [
        "encoder_gen = StringIndexer(inputCol=\"sex\", outputCol=\"sex_cat\")\n",
        "encoded = encoder_gen.fit(df).transform(df)\n",
        "\n",
        "encoder_find = StringIndexer(inputCol=\"finding\", outputCol=\"finding_cat\")\n",
        "encoded = encoder_find.fit(encoded).transform(encoded)\n",
        "\n",
        "encoder_view = StringIndexer(inputCol=\"view\", outputCol=\"view_cat\")\n",
        "encoded = encoder_view.fit(encoded).transform(encoded)\n",
        "\n",
        "encoder_mod = StringIndexer(inputCol=\"modality\", outputCol=\"modality_cat\")\n",
        "encoded = encoder_mod.fit(encoded).transform(encoded)\n",
        "\n",
        "encoder_loc = StringIndexer(inputCol=\"location\", outputCol=\"location_cat\")\n",
        "encoded = encoder_loc.fit(encoded).transform(encoded)\n",
        "\n",
        "encoded.show(5) #notice new column that encodes the ocean prox data"
      ],
      "execution_count": null,
      "outputs": [
        {
          "output_type": "display_data",
          "data": {
            "text/html": [
              "<style scoped>\n",
              "  .ansiout {\n",
              "    display: block;\n",
              "    unicode-bidi: embed;\n",
              "    white-space: pre-wrap;\n",
              "    word-wrap: break-word;\n",
              "    word-break: break-all;\n",
              "    font-family: \"Source Code Pro\", \"Menlo\", monospace;;\n",
              "    font-size: 13px;\n",
              "    color: #555;\n",
              "    margin-left: 4px;\n",
              "    line-height: 19px;\n",
              "  }\n",
              "</style>\n",
              "<div class=\"ansiout\">+---------+------+---+---+--------+----+--------+--------------------+-------+-----------+--------+------------+------------+\n",
              "patientid|offset|sex|age| finding|view|modality|            location|sex_cat|finding_cat|view_cat|modality_cat|location_cat|\n",
              "+---------+------+---+---+--------+----+--------+--------------------+-------+-----------+--------+------------+------------+\n",
              "        2|     0|  M| 65|COVID-19|  PA|   X-ray|Cho Ray Hospital,...|    0.0|        0.0|     0.0|         0.0|        11.0|\n",
              "        2|     3|  M| 65|COVID-19|  PA|   X-ray|Cho Ray Hospital,...|    0.0|        0.0|     0.0|         0.0|        11.0|\n",
              "        2|     5|  M| 65|COVID-19|  PA|   X-ray|Cho Ray Hospital,...|    0.0|        0.0|     0.0|         0.0|        11.0|\n",
              "        2|     6|  M| 65|COVID-19|  PA|   X-ray|Cho Ray Hospital,...|    0.0|        0.0|     0.0|         0.0|        11.0|\n",
              "        4|     0|  F| 52|COVID-19|  PA|   X-ray|Changhua Christia...|    1.0|        0.0|     0.0|         0.0|        20.0|\n",
              "+---------+------+---+---+--------+----+--------+--------------------+-------+-----------+--------+------------+------------+\n",
              "only showing top 5 rows\n",
              "\n",
              "</div>"
            ]
          },
          "metadata": {
            "tags": [],
            "application/vnd.databricks.v1+output": {
              "datasetInfos": [],
              "data": "<div class=\"ansiout\">+---------+------+---+---+--------+----+--------+--------------------+-------+-----------+--------+------------+------------+\n|patientid|offset|sex|age| finding|view|modality|            location|sex_cat|finding_cat|view_cat|modality_cat|location_cat|\n+---------+------+---+---+--------+----+--------+--------------------+-------+-----------+--------+------------+------------+\n|        2|     0|  M| 65|COVID-19|  PA|   X-ray|Cho Ray Hospital,...|    0.0|        0.0|     0.0|         0.0|        11.0|\n|        2|     3|  M| 65|COVID-19|  PA|   X-ray|Cho Ray Hospital,...|    0.0|        0.0|     0.0|         0.0|        11.0|\n|        2|     5|  M| 65|COVID-19|  PA|   X-ray|Cho Ray Hospital,...|    0.0|        0.0|     0.0|         0.0|        11.0|\n|        2|     6|  M| 65|COVID-19|  PA|   X-ray|Cho Ray Hospital,...|    0.0|        0.0|     0.0|         0.0|        11.0|\n|        4|     0|  F| 52|COVID-19|  PA|   X-ray|Changhua Christia...|    1.0|        0.0|     0.0|         0.0|        20.0|\n+---------+------+---+---+--------+----+--------+--------------------+-------+-----------+--------+------------+------------+\nonly showing top 5 rows\n\n</div>",
              "removedWidgets": [],
              "addedWidgets": {},
              "type": "html",
              "arguments": {}
            }
          }
        }
      ]
    },
    {
      "cell_type": "markdown",
      "metadata": {
        "id": "t2cKu7n7i0fd"
      },
      "source": [
        "**1.3 Creating Features Column**\n"
      ]
    },
    {
      "cell_type": "code",
      "metadata": {
        "application/vnd.databricks.v1+cell": {
          "title": "",
          "showTitle": false,
          "inputWidgets": {},
          "nuid": "7bbad4bb-f3ab-48c9-aa8d-1c5e1be847e3"
        },
        "id": "cn437XcxihNB",
        "outputId": "46b24b21-1248-40ac-ac9f-33788adce2e1"
      },
      "source": [
        "assembler = VectorAssembler(inputCols=['offset','age','sex_cat','finding_cat','view_cat','modality_cat','location_cat'],\n",
        "                           outputCol='features') \n",
        "#so we're grabbing columns 1 to 2nd last one which are our features. Last column is our label. Column 0 is ID which is not relevant\n",
        "\n",
        "output = assembler.transform(encoded) #applying our vector assembler to all our data\n",
        "\n"
      ],
      "execution_count": null,
      "outputs": [
        {
          "output_type": "display_data",
          "data": {
            "text/html": [
              "<style scoped>\n",
              "  .ansiout {\n",
              "    display: block;\n",
              "    unicode-bidi: embed;\n",
              "    white-space: pre-wrap;\n",
              "    word-wrap: break-word;\n",
              "    word-break: break-all;\n",
              "    font-family: \"Source Code Pro\", \"Menlo\", monospace;;\n",
              "    font-size: 13px;\n",
              "    color: #555;\n",
              "    margin-left: 4px;\n",
              "    line-height: 19px;\n",
              "  }\n",
              "</style>\n",
              "<div class=\"ansiout\">Out[13]: [Row(features=SparseVector(7, {1: 65.0, 6: 11.0}))]</div>"
            ]
          },
          "metadata": {
            "tags": [],
            "application/vnd.databricks.v1+output": {
              "datasetInfos": [],
              "data": "<div class=\"ansiout\">Out[13]: [Row(features=SparseVector(7, {1: 65.0, 6: 11.0}))]</div>",
              "removedWidgets": [],
              "addedWidgets": {},
              "type": "html",
              "arguments": {}
            }
          }
        }
      ]
    },
    {
      "cell_type": "code",
      "metadata": {
        "application/vnd.databricks.v1+cell": {
          "title": "",
          "showTitle": false,
          "inputWidgets": {},
          "nuid": "17431209-84e5-4364-b3b3-8b4545a0cead"
        },
        "id": "TjpPI5I-ihNC",
        "outputId": "e34b8fe7-c5f4-442e-d9f6-574507d72887"
      },
      "source": [
        "output.select('features').head(4) #notice features is a DenseVector containing all the features we combined"
      ],
      "execution_count": null,
      "outputs": [
        {
          "output_type": "display_data",
          "data": {
            "text/html": [
              "<style scoped>\n",
              "  .ansiout {\n",
              "    display: block;\n",
              "    unicode-bidi: embed;\n",
              "    white-space: pre-wrap;\n",
              "    word-wrap: break-word;\n",
              "    word-break: break-all;\n",
              "    font-family: \"Source Code Pro\", \"Menlo\", monospace;;\n",
              "    font-size: 13px;\n",
              "    color: #555;\n",
              "    margin-left: 4px;\n",
              "    line-height: 19px;\n",
              "  }\n",
              "</style>\n",
              "<div class=\"ansiout\">Out[16]: [Row(features=SparseVector(7, {1: 65.0, 6: 11.0})),\n",
              " Row(features=SparseVector(7, {0: 3.0, 1: 65.0, 6: 11.0})),\n",
              " Row(features=SparseVector(7, {0: 5.0, 1: 65.0, 6: 11.0})),\n",
              " Row(features=SparseVector(7, {0: 6.0, 1: 65.0, 6: 11.0}))]</div>"
            ]
          },
          "metadata": {
            "tags": [],
            "application/vnd.databricks.v1+output": {
              "datasetInfos": [],
              "data": "<div class=\"ansiout\">Out[16]: [Row(features=SparseVector(7, {1: 65.0, 6: 11.0})),\n Row(features=SparseVector(7, {0: 3.0, 1: 65.0, 6: 11.0})),\n Row(features=SparseVector(7, {0: 5.0, 1: 65.0, 6: 11.0})),\n Row(features=SparseVector(7, {0: 6.0, 1: 65.0, 6: 11.0}))]</div>",
              "removedWidgets": [],
              "addedWidgets": {},
              "type": "html",
              "arguments": {}
            }
          }
        }
      ]
    },
    {
      "cell_type": "markdown",
      "metadata": {
        "id": "p9UYaBt8i4K5"
      },
      "source": [
        "**1.4 Scaling Features**\n"
      ]
    },
    {
      "cell_type": "code",
      "metadata": {
        "application/vnd.databricks.v1+cell": {
          "title": "",
          "showTitle": false,
          "inputWidgets": {},
          "nuid": "d4e4a153-c149-49b4-b3e9-ce30d88f06a0"
        },
        "id": "fHbHtLtdihNC",
        "outputId": "dec1e201-c121-4d52-be2c-f7f6cf6c3f3c"
      },
      "source": [
        "scaler = StandardScaler(inputCol=\"features\", outputCol=\"scaledFeatures\", withStd=True, withMean=False)\n",
        "\n",
        "scalerModel = scaler.fit(output)\n",
        "\n",
        "# Normalize each feature to have unit standard deviation.\n",
        "cluster_final = scalerModel.transform(output)\n",
        "cluster_final.show(5)"
      ],
      "execution_count": null,
      "outputs": [
        {
          "output_type": "display_data",
          "data": {
            "text/html": [
              "<style scoped>\n",
              "  .ansiout {\n",
              "    display: block;\n",
              "    unicode-bidi: embed;\n",
              "    white-space: pre-wrap;\n",
              "    word-wrap: break-word;\n",
              "    word-break: break-all;\n",
              "    font-family: \"Source Code Pro\", \"Menlo\", monospace;;\n",
              "    font-size: 13px;\n",
              "    color: #555;\n",
              "    margin-left: 4px;\n",
              "    line-height: 19px;\n",
              "  }\n",
              "</style>\n",
              "<div class=\"ansiout\">+---------+------+---+---+--------+----+--------+--------------------+-------+-----------+--------+------------+------------+--------------------+--------------------+\n",
              "patientid|offset|sex|age| finding|view|modality|            location|sex_cat|finding_cat|view_cat|modality_cat|location_cat|            features|      scaledFeatures|\n",
              "+---------+------+---+---+--------+----+--------+--------------------+-------+-----------+--------+------------+------------+--------------------+--------------------+\n",
              "        2|     0|  M| 65|COVID-19|  PA|   X-ray|Cho Ray Hospital,...|    0.0|        0.0|     0.0|         0.0|        11.0|(7,[1,6],[65.0,11...|(7,[1,6],[4.30266...|\n",
              "        2|     3|  M| 65|COVID-19|  PA|   X-ray|Cho Ray Hospital,...|    0.0|        0.0|     0.0|         0.0|        11.0|(7,[0,1,6],[3.0,6...|(7,[0,1,6],[0.419...|\n",
              "        2|     5|  M| 65|COVID-19|  PA|   X-ray|Cho Ray Hospital,...|    0.0|        0.0|     0.0|         0.0|        11.0|(7,[0,1,6],[5.0,6...|(7,[0,1,6],[0.698...|\n",
              "        2|     6|  M| 65|COVID-19|  PA|   X-ray|Cho Ray Hospital,...|    0.0|        0.0|     0.0|         0.0|        11.0|(7,[0,1,6],[6.0,6...|(7,[0,1,6],[0.838...|\n",
              "        4|     0|  F| 52|COVID-19|  PA|   X-ray|Changhua Christia...|    1.0|        0.0|     0.0|         0.0|        20.0|(7,[1,2,6],[52.0,...|(7,[1,2,6],[3.442...|\n",
              "+---------+------+---+---+--------+----+--------+--------------------+-------+-----------+--------+------------+------------+--------------------+--------------------+\n",
              "only showing top 5 rows\n",
              "\n",
              "</div>"
            ]
          },
          "metadata": {
            "tags": [],
            "application/vnd.databricks.v1+output": {
              "datasetInfos": [],
              "data": "<div class=\"ansiout\">+---------+------+---+---+--------+----+--------+--------------------+-------+-----------+--------+------------+------------+--------------------+--------------------+\n|patientid|offset|sex|age| finding|view|modality|            location|sex_cat|finding_cat|view_cat|modality_cat|location_cat|            features|      scaledFeatures|\n+---------+------+---+---+--------+----+--------+--------------------+-------+-----------+--------+------------+------------+--------------------+--------------------+\n|        2|     0|  M| 65|COVID-19|  PA|   X-ray|Cho Ray Hospital,...|    0.0|        0.0|     0.0|         0.0|        11.0|(7,[1,6],[65.0,11...|(7,[1,6],[4.30266...|\n|        2|     3|  M| 65|COVID-19|  PA|   X-ray|Cho Ray Hospital,...|    0.0|        0.0|     0.0|         0.0|        11.0|(7,[0,1,6],[3.0,6...|(7,[0,1,6],[0.419...|\n|        2|     5|  M| 65|COVID-19|  PA|   X-ray|Cho Ray Hospital,...|    0.0|        0.0|     0.0|         0.0|        11.0|(7,[0,1,6],[5.0,6...|(7,[0,1,6],[0.698...|\n|        2|     6|  M| 65|COVID-19|  PA|   X-ray|Cho Ray Hospital,...|    0.0|        0.0|     0.0|         0.0|        11.0|(7,[0,1,6],[6.0,6...|(7,[0,1,6],[0.838...|\n|        4|     0|  F| 52|COVID-19|  PA|   X-ray|Changhua Christia...|    1.0|        0.0|     0.0|         0.0|        20.0|(7,[1,2,6],[52.0,...|(7,[1,2,6],[3.442...|\n+---------+------+---+---+--------+----+--------+--------------------+-------+-----------+--------+------------+------------+--------------------+--------------------+\nonly showing top 5 rows\n\n</div>",
              "removedWidgets": [],
              "addedWidgets": {},
              "type": "html",
              "arguments": {}
            }
          }
        }
      ]
    },
    {
      "cell_type": "markdown",
      "metadata": {
        "id": "FtpBuBXXjFNt"
      },
      "source": [
        "#**2.0 Creating Cluster**\n"
      ]
    },
    {
      "cell_type": "code",
      "metadata": {
        "application/vnd.databricks.v1+cell": {
          "title": "",
          "showTitle": false,
          "inputWidgets": {},
          "nuid": "2085b895-11cf-4520-8dd9-17501ecc0e57"
        },
        "id": "cR-aYd4PihND",
        "outputId": "3f9def58-5832-4ab1-90b7-da510ad79b5f"
      },
      "source": [
        "kmeans3 = KMeans(featuresCol='scaledFeatures',k=3)\n",
        "kmeans2 = KMeans(featuresCol='scaledFeatures',k=2)\n",
        "\n",
        "model_k3 = kmeans3.fit(cluster_final)\n",
        "model_k2 = kmeans2.fit(cluster_final)\n",
        "\n",
        "pred_k3 = model_k3.transform(cluster_final)\n",
        "pred_k2 = model_k2.transform(cluster_final)\n",
        "\n",
        "evaluator = ClusteringEvaluator()\n",
        "\n",
        "silhouette_k3 = evaluator.evaluate(pred_k3)\n",
        "silhouette_k2 = evaluator.evaluate(pred_k2)\n",
        "\n",
        "print(\"Silhouette with squared euclidean distance = \" + str(silhouette_k3))\n",
        "print(\"Silhouette with squared euclidean distance = \" + str(silhouette_k2))"
      ],
      "execution_count": null,
      "outputs": [
        {
          "output_type": "display_data",
          "data": {
            "text/html": [
              "<style scoped>\n",
              "  .ansiout {\n",
              "    display: block;\n",
              "    unicode-bidi: embed;\n",
              "    white-space: pre-wrap;\n",
              "    word-wrap: break-word;\n",
              "    word-break: break-all;\n",
              "    font-family: \"Source Code Pro\", \"Menlo\", monospace;;\n",
              "    font-size: 13px;\n",
              "    color: #555;\n",
              "    margin-left: 4px;\n",
              "    line-height: 19px;\n",
              "  }\n",
              "</style>\n",
              "<div class=\"ansiout\">Silhouette with squared euclidean distance = -0.10475149410141821\n",
              "Silhouette with squared euclidean distance = -0.0387862596451575\n",
              "</div>"
            ]
          },
          "metadata": {
            "tags": [],
            "application/vnd.databricks.v1+output": {
              "datasetInfos": [],
              "data": "<div class=\"ansiout\">Silhouette with squared euclidean distance = -0.10475149410141821\nSilhouette with squared euclidean distance = -0.0387862596451575\n</div>",
              "removedWidgets": [],
              "addedWidgets": {},
              "type": "html",
              "arguments": {}
            }
          }
        }
      ]
    },
    {
      "cell_type": "code",
      "metadata": {
        "application/vnd.databricks.v1+cell": {
          "title": "",
          "showTitle": false,
          "inputWidgets": {},
          "nuid": "7ad2a2bf-cdae-441a-b2dd-09f6eeef5b09"
        },
        "id": "Vz0wf-mTihNE",
        "outputId": "68fd13f6-e7c4-476b-cc47-de96077e8ca7"
      },
      "source": [
        "centers_k3 = model_k3.clusterCenters()\n",
        "print(\"Cluster Centers: \")\n",
        "for center in centers_k3:\n",
        "    print(center)"
      ],
      "execution_count": null,
      "outputs": [
        {
          "output_type": "display_data",
          "data": {
            "text/html": [
              "<style scoped>\n",
              "  .ansiout {\n",
              "    display: block;\n",
              "    unicode-bidi: embed;\n",
              "    white-space: pre-wrap;\n",
              "    word-wrap: break-word;\n",
              "    word-break: break-all;\n",
              "    font-family: \"Source Code Pro\", \"Menlo\", monospace;;\n",
              "    font-size: 13px;\n",
              "    color: #555;\n",
              "    margin-left: 4px;\n",
              "    line-height: 19px;\n",
              "  }\n",
              "</style>\n",
              "<div class=\"ansiout\">Cluster Centers: \n",
              "[0.91758363 3.77801394 0.         0.16447591 0.54902394 0.\n",
              " 0.63020525]\n",
              "[1.25299969 3.58693739 0.62818219 0.1513926  2.61730008 1.77403195\n",
              " 0.5752696 ]\n",
              "[0.865409   3.62601078 1.9822638  0.7064988  0.26764917 0.\n",
              " 1.12635368]\n",
              "</div>"
            ]
          },
          "metadata": {
            "tags": [],
            "application/vnd.databricks.v1+output": {
              "datasetInfos": [],
              "data": "<div class=\"ansiout\">Cluster Centers: \n[0.91758363 3.77801394 0.         0.16447591 0.54902394 0.\n 0.63020525]\n[1.25299969 3.58693739 0.62818219 0.1513926  2.61730008 1.77403195\n 0.5752696 ]\n[0.865409   3.62601078 1.9822638  0.7064988  0.26764917 0.\n 1.12635368]\n</div>",
              "removedWidgets": [],
              "addedWidgets": {},
              "type": "html",
              "arguments": {}
            }
          }
        }
      ]
    },
    {
      "cell_type": "code",
      "metadata": {
        "application/vnd.databricks.v1+cell": {
          "title": "",
          "showTitle": false,
          "inputWidgets": {},
          "nuid": "1c1df5aa-5730-41a3-bdbe-854d0579022f"
        },
        "id": "BQXJ1BXBihNE",
        "outputId": "e70abc06-7e8d-465e-a6c9-b2870c207c20"
      },
      "source": [
        "centers_k2 = model_k2.clusterCenters()\n",
        "print(\"Cluster Centers: \")\n",
        "for center in centers_k2:\n",
        "    print(center)"
      ],
      "execution_count": null,
      "outputs": [
        {
          "output_type": "display_data",
          "data": {
            "text/html": [
              "<style scoped>\n",
              "  .ansiout {\n",
              "    display: block;\n",
              "    unicode-bidi: embed;\n",
              "    white-space: pre-wrap;\n",
              "    word-wrap: break-word;\n",
              "    word-break: break-all;\n",
              "    font-family: \"Source Code Pro\", \"Menlo\", monospace;;\n",
              "    font-size: 13px;\n",
              "    color: #555;\n",
              "    margin-left: 4px;\n",
              "    line-height: 19px;\n",
              "  }\n",
              "</style>\n",
              "<div class=\"ansiout\">Cluster Centers: \n",
              "[0.81675027 3.699787   1.09786918 0.49377278 0.2337575  0.\n",
              " 0.95908564]\n",
              "[1.28276687 3.6527562  0.36548782 0.08808297 2.12921467 1.03216404\n",
              " 0.47039244]\n",
              "</div>"
            ]
          },
          "metadata": {
            "tags": [],
            "application/vnd.databricks.v1+output": {
              "datasetInfos": [],
              "data": "<div class=\"ansiout\">Cluster Centers: \n[0.81675027 3.699787   1.09786918 0.49377278 0.2337575  0.\n 0.95908564]\n[1.28276687 3.6527562  0.36548782 0.08808297 2.12921467 1.03216404\n 0.47039244]\n</div>",
              "removedWidgets": [],
              "addedWidgets": {},
              "type": "html",
              "arguments": {}
            }
          }
        }
      ]
    }
  ]
}